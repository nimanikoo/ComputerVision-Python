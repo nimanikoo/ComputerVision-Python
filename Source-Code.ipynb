{
 "cells": [
  {
   "cell_type": "markdown",
   "id": "d314d49d",
   "metadata": {},
   "source": [
    "Load Modules"
   ]
  },
  {
   "cell_type": "code",
   "execution_count": null,
   "id": "ea106787",
   "metadata": {},
   "outputs": [],
   "source": [
    "import numpy as np\n",
    "import pandas as pd\n",
    "import matplotlib.pyplot as plt\n",
    "from sklearn.model_selection import train_test_split\n",
    "from sklearn.metrics import accuracy_score\n"
   ]
  },
  {
   "cell_type": "markdown",
   "id": "12e33899",
   "metadata": {},
   "source": [
    "Prepare Data"
   ]
  },
  {
   "cell_type": "code",
   "execution_count": null,
   "id": "2a03063c",
   "metadata": {},
   "outputs": [],
   "source": [
    "import os\n",
    "path = os.listdir('../ComputerVision-Project/brain_tumor_Data/Training/')\n",
    "classess = {'no_tumor':0,'pituitary_tumor':1}"
   ]
  },
  {
   "cell_type": "code",
   "execution_count": null,
   "id": "83dd45a7",
   "metadata": {},
   "outputs": [],
   "source": [
    "import cv2\n",
    "X = []\n",
    "Y = []\n",
    "for cls in classess:\n",
    "    pth = '../ComputerVision-Project/brain_tumor_Data/Training/' +cls\n",
    "    for j in os.listdir(pth):\n",
    "        img = cv2.imread(pth+'/'+j,0)\n",
    "        img = cv2.resize(img,(200,200))\n",
    "        X.append(img)\n",
    "        Y.append(classess[cls])"
   ]
  },
  {
   "cell_type": "code",
   "execution_count": null,
   "id": "291dd389",
   "metadata": {},
   "outputs": [],
   "source": [
    "np.unique(Y)"
   ]
  },
  {
   "cell_type": "code",
   "execution_count": null,
   "id": "319f2d58",
   "metadata": {},
   "outputs": [],
   "source": [
    "X = np.array(X)\n",
    "Y = np.array(Y)"
   ]
  },
  {
   "cell_type": "code",
   "execution_count": null,
   "id": "38e6d89e",
   "metadata": {},
   "outputs": [],
   "source": [
    "pd.Series(Y).value_counts()"
   ]
  },
  {
   "cell_type": "code",
   "execution_count": null,
   "id": "520f6a53",
   "metadata": {},
   "outputs": [],
   "source": [
    "X.shape"
   ]
  },
  {
   "cell_type": "markdown",
   "id": "1ebdad81",
   "metadata": {},
   "source": [
    "Visualize Data"
   ]
  },
  {
   "cell_type": "code",
   "execution_count": null,
   "id": "f067a7e7",
   "metadata": {},
   "outputs": [],
   "source": [
    "plt.imshow(X[0],cmap='gray')"
   ]
  },
  {
   "cell_type": "markdown",
   "id": "dbaf89db",
   "metadata": {},
   "source": [
    "Preparing Data"
   ]
  },
  {
   "cell_type": "code",
   "execution_count": null,
   "id": "659a8b9d",
   "metadata": {},
   "outputs": [],
   "source": [
    "X_updated = X.reshape(len(X), -1)\n",
    "X_updated.shape"
   ]
  },
  {
   "cell_type": "markdown",
   "id": "d42e8009",
   "metadata": {},
   "source": [
    "Split Data"
   ]
  },
  {
   "cell_type": "code",
   "execution_count": null,
   "id": "ccf75056",
   "metadata": {},
   "outputs": [],
   "source": [
    "xTrain,xTest,yTrain,yTest = train_test_split(X_updated,Y,random_state=10,test_size=.20)"
   ]
  },
  {
   "cell_type": "code",
   "execution_count": null,
   "id": "fca727ad",
   "metadata": {},
   "outputs": [],
   "source": [
    "xTrain.shape,xTest.shape"
   ]
  },
  {
   "cell_type": "markdown",
   "id": "97021e0a",
   "metadata": {},
   "source": [
    "Scaling Feature"
   ]
  },
  {
   "cell_type": "code",
   "execution_count": null,
   "id": "550da533",
   "metadata": {},
   "outputs": [],
   "source": [
    "print(xTrain.max(),xTrain.min())\n",
    "print(xTest.max(),xTest.min())\n",
    "xTrain = xTrain/255\n",
    "xTest = xTest/255\n",
    "print(xTrain.max(),xTrain.min())\n",
    "print(xTest.max(),xTest.min())"
   ]
  },
  {
   "cell_type": "markdown",
   "id": "484e3624",
   "metadata": {},
   "source": [
    "Selection:PCA : Principal component analysis"
   ]
  },
  {
   "cell_type": "code",
   "execution_count": null,
   "id": "fbf2cf53",
   "metadata": {},
   "outputs": [],
   "source": [
    "from sklearn.decomposition import PCA"
   ]
  },
  {
   "cell_type": "code",
   "execution_count": null,
   "id": "09ccbe2e",
   "metadata": {},
   "outputs": [],
   "source": [
    "print(xTrain.shape,xTest.shape)\n",
    "pca = PCA(.98)\n",
    "pca_train = pca.fit_transform(xTrain)\n",
    "pca_test = pca.transform(xTest)\n",
    "pca_train = xTrain\n",
    "pca_test  = xTest"
   ]
  },
  {
   "cell_type": "code",
   "execution_count": null,
   "id": "95115d22",
   "metadata": {},
   "outputs": [],
   "source": [
    "print(pca_train.shape,pca_test.shape)\n",
    "print(pca.n_components_)\n",
    "print(pca.n_features_)"
   ]
  },
  {
   "cell_type": "markdown",
   "id": "7317642d",
   "metadata": {},
   "source": [
    "Training Model"
   ]
  },
  {
   "cell_type": "markdown",
   "id": "9d415a7b",
   "metadata": {},
   "source": [
    "Logistic Regression as lg </br>\n",
    "Support Vector Classifier as SVC"
   ]
  },
  {
   "cell_type": "code",
   "execution_count": null,
   "id": "7617ad73",
   "metadata": {},
   "outputs": [],
   "source": [
    "from sklearn.linear_model import LogisticRegression\n",
    "from sklearn.svm import SVC"
   ]
  },
  {
   "cell_type": "code",
   "execution_count": null,
   "id": "c59d093c",
   "metadata": {},
   "outputs": [],
   "source": [
    "import warnings\n",
    "warnings.filterwarnings('ignore')\n",
    "lg = LogisticRegression(C=0.1)\n",
    "lg.fit(pca_train,yTrain)"
   ]
  },
  {
   "cell_type": "code",
   "execution_count": null,
   "id": "57e6b7b4",
   "metadata": {},
   "outputs": [],
   "source": [
    "sv = SVC()\n",
    "sv.fit(pca_train,yTrain)"
   ]
  },
  {
   "cell_type": "markdown",
   "id": "82b74c6d",
   "metadata": {},
   "source": [
    "Evaluation"
   ]
  },
  {
   "cell_type": "code",
   "execution_count": null,
   "id": "5da368eb",
   "metadata": {},
   "outputs": [],
   "source": [
    "print(\"Training Score: \",lg.score(pca_train,yTrain))\n",
    "print(\"Testing Score: \",lg.score(pca_test,yTest))"
   ]
  },
  {
   "cell_type": "code",
   "execution_count": null,
   "id": "6fe068a5",
   "metadata": {},
   "outputs": [],
   "source": [
    "print(\"Training Score: \",sv.score(pca_train,yTrain))\n",
    "print(\"Testing Score: \",sv.score(pca_test,yTest))"
   ]
  },
  {
   "cell_type": "markdown",
   "id": "9ce7644e",
   "metadata": {},
   "source": [
    "Prediction"
   ]
  },
  {
   "cell_type": "code",
   "execution_count": null,
   "id": "8452a6d1",
   "metadata": {},
   "outputs": [],
   "source": [
    "pred = sv.predict(pca_test)\n",
    "np.where(yTest != pred)"
   ]
  },
  {
   "cell_type": "code",
   "execution_count": null,
   "id": "e37cabb0",
   "metadata": {},
   "outputs": [],
   "source": [
    "pred[6]"
   ]
  },
  {
   "cell_type": "code",
   "execution_count": null,
   "id": "428d9cc5",
   "metadata": {},
   "outputs": [],
   "source": [
    "yTest[6]"
   ]
  },
  {
   "cell_type": "markdown",
   "id": "532ff3d1",
   "metadata": {},
   "source": [
    "Test Model"
   ]
  },
  {
   "cell_type": "code",
   "execution_count": null,
   "id": "c5b00263",
   "metadata": {},
   "outputs": [],
   "source": [
    "dec = {0:'No Tumor' , 1:'Positive Tumor'}"
   ]
  },
  {
   "cell_type": "code",
   "execution_count": null,
   "id": "1310a76c",
   "metadata": {},
   "outputs": [],
   "source": [
    "plt.figure(figsize=(12,8))\n",
    "p= os.listdir('../ComputerVision-Project/brain_tumor_Data/Testing/')\n",
    "c=1\n",
    "for i in os.listdir('../ComputerVision-Project/brain_tumor_Data/Testing/no_tumor/')[:9]:\n",
    "    plt.subplot(3,3,c)\n",
    "    img = cv2.imread('../ComputerVision-Project/brain_tumor_Data/Testing/no_tumor/'+i,0)\n",
    "    img1 = cv2.resize(img,(200,200))\n",
    "    img1 = img1.reshape(1,-1)/255\n",
    "    p= sv.predict(img1)\n",
    "    plt.title(dec[p[0]])\n",
    "    plt.imshow(img,cmap='gray')\n",
    "    plt.axis('off')\n",
    "    c+=1"
   ]
  },
  {
   "cell_type": "code",
   "execution_count": null,
   "id": "6a550fb3",
   "metadata": {},
   "outputs": [],
   "source": [
    "plt.figure(figsize=(12,8))\n",
    "p = os.listdir('../ComputerVision-Project/brain_tumor_Data/Testing/')\n",
    "c=1\n",
    "for i in os.listdir('../ComputerVision-Project/brain_tumor_Data/Testing/pituitary_tumor/')[:16]:\n",
    "    plt.subplot(4,4,c)\n",
    "    img = cv2.imread('../ComputerVision-Project/brain_tumor_Data/Testing/pituitary_tumor/'+i,0)\n",
    "    img1 = cv2.resize(img,(200,200))\n",
    "    img1 = img1.reshape(1,-1)/255\n",
    "    p = sv.predict(img1)\n",
    "    plt.title(dec[p[0]])\n",
    "    plt.imshow(img,cmap='gray')\n",
    "    plt.axis('off')\n",
    "    c+=1"
   ]
  }
 ],
 "metadata": {
  "kernelspec": {
   "display_name": "Python 3.11.0 64-bit",
   "language": "python",
   "name": "python3"
  },
  "language_info": {
   "codemirror_mode": {
    "name": "ipython",
    "version": 3
   },
   "file_extension": ".py",
   "mimetype": "text/x-python",
   "name": "python",
   "nbconvert_exporter": "python",
   "pygments_lexer": "ipython3",
   "version": "3.11.0"
  },
  "vscode": {
   "interpreter": {
    "hash": "318f2c383d48220c821fefd227250c35bb828f95042f5889a5ad1704b1baf79c"
   }
  }
 },
 "nbformat": 4,
 "nbformat_minor": 5
}
